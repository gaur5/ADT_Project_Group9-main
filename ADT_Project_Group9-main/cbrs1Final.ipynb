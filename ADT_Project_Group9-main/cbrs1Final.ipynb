{
 "cells": [
  {
   "cell_type": "code",
   "execution_count": null,
   "id": "O5GlzG5BE3pd",
   "metadata": {
    "colab": {
     "base_uri": "https://localhost:8080/"
    },
    "id": "O5GlzG5BE3pd",
    "outputId": "dd35602f-e727-426b-dda9-91e565c8a596"
   },
   "outputs": [],
   "source": [
    "!pip install pyspark"
   ]
  },
  {
   "cell_type": "code",
   "execution_count": 3,
   "id": "392a463c",
   "metadata": {
    "id": "392a463c"
   },
   "outputs": [],
   "source": [
    "from pyspark.sql import SparkSession\n",
    "from pyspark.sql.types import StructType, StructField, IntegerType, StringType"
   ]
  },
  {
   "cell_type": "code",
   "execution_count": 4,
   "id": "zJlhWZVmEufj",
   "metadata": {
    "colab": {
     "base_uri": "https://localhost:8080/"
    },
    "id": "zJlhWZVmEufj",
    "outputId": "15b56413-909f-490a-f938-70b3ed109fd7"
   },
   "outputs": [],
   "source": [
    "import findspark\n",
    "findspark.init()"
   ]
  },
  {
   "cell_type": "code",
   "execution_count": 5,
   "id": "750cc341",
   "metadata": {
    "id": "750cc341"
   },
   "outputs": [],
   "source": [
    "spark = SparkSession.builder.appName(\"RecommendationSystem\").config(\"spark.driver.memory\", \"16g\").config(\"spark.network.timeout\", \"600s\").getOrCreate()"
   ]
  },
  {
   "cell_type": "markdown",
   "id": "3c7b2cb4",
   "metadata": {
    "id": "3c7b2cb4"
   },
   "source": [
    "# Load Data"
   ]
  },
  {
   "cell_type": "code",
   "execution_count": 6,
   "id": "3a69a8f5",
   "metadata": {
    "id": "3a69a8f5"
   },
   "outputs": [],
   "source": [
    "movieSchema = StructType([\n",
    "    StructField(\"movie_id\", IntegerType(), True),\n",
    "    StructField(\"movie_title\", StringType(), True),\n",
    "    StructField(\"release_date\", StringType(), True),\n",
    "    StructField(\"video_release_date\", StringType(), True),\n",
    "    StructField(\"imdb_url\", StringType(), True),\n",
    "    StructField(\"unknown\", IntegerType(), True),\n",
    "    StructField(\"action\", IntegerType(), True),\n",
    "    StructField(\"adventure\", IntegerType(), True),\n",
    "    StructField(\"animation\", IntegerType(), True),\n",
    "    StructField(\"children\", IntegerType(), True),\n",
    "    StructField(\"comedy\", IntegerType(), True),\n",
    "    StructField(\"crime\", IntegerType(), True),\n",
    "    StructField(\"documentary\", IntegerType(), True),\n",
    "    StructField(\"drama\", IntegerType(), True),\n",
    "    StructField(\"fantasy\", IntegerType(), True),\n",
    "    StructField(\"film_noir\", IntegerType(), True),\n",
    "    StructField(\"horror\", IntegerType(), True),\n",
    "    StructField(\"musical\", IntegerType(), True),\n",
    "    StructField(\"mystery\", IntegerType(), True),\n",
    "    StructField(\"romance\", IntegerType(), True),\n",
    "    StructField(\"sci_fi\", IntegerType(), True),\n",
    "    StructField(\"thriller\", IntegerType(), True),\n",
    "    StructField(\"war\", IntegerType(), True),\n",
    "    StructField(\"western\", IntegerType(), True),\n",
    "])\n",
    "\n",
    "\n",
    "#movie_df = spark.read.format(\"csv\").schema(movieSchema).option(\"delimiter\", \"|\").load(\"ml-100k/u.item\")\n",
    "movie_df = spark.read.format(\"csv\").schema(movieSchema).option(\"delimiter\", \"|\").load(\"hdfs://localhost:9000/user/vvd09/data/u.item\")"
   ]
  },
  {
   "cell_type": "markdown",
   "id": "03b1ad29",
   "metadata": {
    "id": "03b1ad29"
   },
   "source": [
    "# Data processing"
   ]
  },
  {
   "cell_type": "code",
   "execution_count": 12,
   "id": "63e0319c",
   "metadata": {
    "colab": {
     "base_uri": "https://localhost:8080/"
    },
    "id": "63e0319c",
    "outputId": "ff5254ba-e3b4-485b-ba93-9646e12d899a"
   },
   "outputs": [],
   "source": [
    "from pyspark.sql.functions import when, col, array\n",
    "\n",
    "genre_name_list = movie_df.columns[5:]\n",
    "genres_df = movie_df.select(\"movie_id\", array([col(column) for column in genre_name_list]).alias(\"genres\"))"
   ]
  },
  {
   "cell_type": "code",
   "execution_count": 13,
   "id": "4V_FLSozRsfE",
   "metadata": {
    "id": "4V_FLSozRsfE"
   },
   "outputs": [],
   "source": [
    "from pyspark.sql.functions import when, col, array, array_remove\n",
    "#genres_df = movie_df.withColumn(\"genres\", array([when(col(col_name) == 1, col_name).otherwise(None) for col_name in genre_name_list]))\n",
    "genres_df = movie_df.withColumn(\"genres\", array_remove(array([when(col(col_name) == 1, col_name).otherwise(0) for col_name in genre_name_list]), '0'))"
   ]
  },
  {
   "cell_type": "code",
   "execution_count": 14,
   "id": "fXl2HV8AToos",
   "metadata": {
    "id": "fXl2HV8AToos"
   },
   "outputs": [],
   "source": [
    "genres_df = genres_df.select(\"movie_id\", \"movie_title\", \"genres\")"
   ]
  },
  {
   "cell_type": "code",
   "execution_count": 15,
   "id": "6_GAfa5JTctA",
   "metadata": {
    "colab": {
     "base_uri": "https://localhost:8080/"
    },
    "id": "6_GAfa5JTctA",
    "outputId": "5db5eefd-24f4-42a0-cb6c-2b145d8f9dcb"
   },
   "outputs": [
    {
     "name": "stdout",
     "output_type": "stream",
     "text": [
      "+--------+-----------------+--------------------+\n",
      "|movie_id|      movie_title|              genres|\n",
      "+--------+-----------------+--------------------+\n",
      "|       1| Toy Story (1995)|[animation, child...|\n",
      "|       2| GoldenEye (1995)|[action, adventur...|\n",
      "|       3|Four Rooms (1995)|          [thriller]|\n",
      "|       4|Get Shorty (1995)|[action, comedy, ...|\n",
      "|       5|   Copycat (1995)|[crime, drama, th...|\n",
      "+--------+-----------------+--------------------+\n",
      "only showing top 5 rows\n",
      "\n"
     ]
    }
   ],
   "source": [
    "genres_df.show(5)"
   ]
  },
  {
   "cell_type": "markdown",
   "id": "8620b7ab",
   "metadata": {},
   "source": [
    "# Select Features"
   ]
  },
  {
   "cell_type": "code",
   "execution_count": 16,
   "id": "00275bd0",
   "metadata": {
    "id": "00275bd0"
   },
   "outputs": [],
   "source": [
    "# Import Libraries\n",
    "from pyspark.ml.feature import HashingTF, IDF\n",
    "from pyspark.ml.linalg import Vectors\n",
    "from pyspark.ml.feature import VectorAssembler\n",
    "from pyspark.ml.clustering import KMeans\n",
    "from pyspark.ml.feature import Normalizer\n",
    "\n",
    "# Convert genres to a feature vector using TF-IDF\n",
    "hashingTF = HashingTF(inputCol=\"genres\", outputCol=\"rawFeatures\", numFeatures=19)\n",
    "idf = IDF(inputCol=\"rawFeatures\", outputCol=\"feature\")\n",
    "genres_df = hashingTF.transform(genres_df)\n",
    "genres_df = idf.fit(genres_df).transform(genres_df)\n",
    "\n",
    "# Normalize the feature vectors\n",
    "normalizer = Normalizer(inputCol=\"feature\", outputCol=\"norm\")\n",
    "genres_df = normalizer.transform(genres_df)"
   ]
  },
  {
   "cell_type": "markdown",
   "id": "9a98a9c3",
   "metadata": {
    "colab": {
     "base_uri": "https://localhost:8080/"
    },
    "id": "xo9I7PY2OxdQ",
    "outputId": "c07a6b2e-595f-4f0b-8f91-1c27800c579b"
   },
   "source": [
    "# Find similarity"
   ]
  },
  {
   "cell_type": "code",
   "execution_count": 17,
   "id": "46f2221e",
   "metadata": {
    "id": "46f2221e"
   },
   "outputs": [],
   "source": [
    "rec_movie_id = 420 # target movie\n",
    "target_movie = genres_df.filter(f\"movie_id == {rec_movie_id}\").first()\n",
    "similarity_scores = genres_df.rdd\\\n",
    "    .map(lambda row: (row[\"movie_id\"], row[\"movie_title\"],float(row[\"norm\"].dot(target_movie[\"norm\"]))))\\\n",
    "    .toDF([\"movie_id\", \"movie_title\", \"similarity\"])"
   ]
  },
  {
   "cell_type": "code",
   "execution_count": 18,
   "id": "9d3015e9",
   "metadata": {},
   "outputs": [
    {
     "name": "stdout",
     "output_type": "stream",
     "text": [
      "+--------+--------------------+------------------+\n",
      "|movie_id|         movie_title|        similarity|\n",
      "+--------+--------------------+------------------+\n",
      "|     432|     Fantasia (1940)|0.9999999999999999|\n",
      "|     588|Beauty and the Be...|0.9999999999999999|\n",
      "|     473|James and the Gia...|0.9999999999999999|\n",
      "|      71|Lion King, The (1...|0.9999999999999999|\n",
      "|     596|Hunchback of Notr...|0.9999999999999999|\n",
      "|     418|   Cinderella (1950)|0.9999999999999999|\n",
      "|     103|All Dogs Go to He...|0.9999999999999999|\n",
      "|      99|Snow White and th...|0.9999999999999999|\n",
      "|     501|        Dumbo (1941)|0.9999999999999999|\n",
      "|     538|    Anastasia (1997)|0.9999999999999999|\n",
      "+--------+--------------------+------------------+\n",
      "\n"
     ]
    }
   ],
   "source": [
    "top10 = similarity_scores.where(similarity_scores.movie_id!=rec_movie_id).orderBy([\"similarity\"], ascending=False).limit(10)\n",
    "top10.show()"
   ]
  },
  {
   "cell_type": "code",
   "execution_count": 20,
   "id": "9IIR4miDGREH",
   "metadata": {
    "id": "9IIR4miDGREH"
   },
   "outputs": [
    {
     "name": "stdout",
     "output_type": "stream",
     "text": [
      "Target Movie:  Alice in Wonderland (1951)\n",
      "Target movie genres:  ['animation', 'children', 'musical']\n"
     ]
    }
   ],
   "source": [
    "print(\"Target Movie: \", movie_df.select(\"movie_title\").where(movie_df.movie_id == rec_movie_id).collect()[0][0])\n",
    "print(\"Target movie genres: \", genres_df.select(\"genres\").where(genres_df.movie_id == rec_movie_id).collect()[0][0])"
   ]
  },
  {
   "cell_type": "code",
   "execution_count": 25,
   "id": "WC9w1Y40I6HJ",
   "metadata": {
    "colab": {
     "base_uri": "https://localhost:8080/"
    },
    "id": "WC9w1Y40I6HJ",
    "outputId": "f7476df3-d38e-4eea-adac-643a5aa08f52"
   },
   "outputs": [
    {
     "data": {
      "text/plain": [
       "[Row(genres=['animation', 'children', 'musical']),\n",
       " Row(genres=['animation', 'children', 'musical']),\n",
       " Row(genres=['animation', 'children', 'musical']),\n",
       " Row(genres=['animation', 'children', 'musical']),\n",
       " Row(genres=['animation', 'children', 'musical']),\n",
       " Row(genres=['animation', 'children', 'musical']),\n",
       " Row(genres=['animation', 'children', 'musical']),\n",
       " Row(genres=['animation', 'children', 'musical']),\n",
       " Row(genres=['animation', 'children', 'musical']),\n",
       " Row(genres=['animation', 'children', 'musical'])]"
      ]
     },
     "execution_count": 25,
     "metadata": {},
     "output_type": "execute_result"
    }
   ],
   "source": [
    "top10.join(genres_df, on=['movie_id']).select(genres_df.genres).collect()"
   ]
  },
  {
   "cell_type": "code",
   "execution_count": null,
   "id": "e88de257",
   "metadata": {},
   "outputs": [],
   "source": []
  },
  {
   "cell_type": "code",
   "execution_count": 1,
   "id": "s5wW6zC1QpPj",
   "metadata": {
    "colab": {
     "base_uri": "https://localhost:8080/"
    },
    "id": "s5wW6zC1QpPj",
    "outputId": "6058b1eb-2554-42a7-a4cd-29c01b3b4edd"
   },
   "outputs": [],
   "source": [
    "#movie_df.select(\"movie_id\", \"movie_title\").orderBy(\"movie_title\").show(50)"
   ]
  },
  {
   "cell_type": "code",
   "execution_count": null,
   "id": "HsYtkrhiRhK0",
   "metadata": {
    "id": "HsYtkrhiRhK0"
   },
   "outputs": [],
   "source": [
    "#176"
   ]
  },
  {
   "cell_type": "code",
   "execution_count": null,
   "id": "a0555171",
   "metadata": {},
   "outputs": [],
   "source": []
  }
 ],
 "metadata": {
  "colab": {
   "provenance": []
  },
  "kernelspec": {
   "display_name": "Python 3 (ipykernel)",
   "language": "python",
   "name": "python3"
  },
  "language_info": {
   "codemirror_mode": {
    "name": "ipython",
    "version": 3
   },
   "file_extension": ".py",
   "mimetype": "text/x-python",
   "name": "python",
   "nbconvert_exporter": "python",
   "pygments_lexer": "ipython3",
   "version": "3.9.13"
  }
 },
 "nbformat": 4,
 "nbformat_minor": 5
}
