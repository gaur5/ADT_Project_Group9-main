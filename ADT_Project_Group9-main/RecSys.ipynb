{
 "cells": [
  {
   "cell_type": "code",
   "execution_count": null,
   "metadata": {
    "colab": {
     "base_uri": "https://localhost:8080/"
    },
    "id": "AFShgtOV6qh_",
    "outputId": "b172d0f7-0186-4aff-bd47-f701865a5f47"
   },
   "outputs": [
    {
     "name": "stdout",
     "output_type": "stream",
     "text": [
      "Looking in indexes: https://pypi.org/simple, https://us-python.pkg.dev/colab-wheels/public/simple/\n",
      "Collecting pyspark\n",
      "  Downloading pyspark-3.3.2.tar.gz (281.4 MB)\n",
      "\u001b[2K     \u001b[90m━━━━━━━━━━━━━━━━━━━━━━━━━━━━━━━━━━━━━━━\u001b[0m \u001b[32m281.4/281.4 MB\u001b[0m \u001b[31m5.0 MB/s\u001b[0m eta \u001b[36m0:00:00\u001b[0m\n",
      "\u001b[?25h  Preparing metadata (setup.py) ... \u001b[?25l\u001b[?25hdone\n",
      "Collecting py4j==0.10.9.5\n",
      "  Downloading py4j-0.10.9.5-py2.py3-none-any.whl (199 kB)\n",
      "\u001b[2K     \u001b[90m━━━━━━━━━━━━━━━━━━━━━━━━━━━━━━━━━━━━━━\u001b[0m \u001b[32m199.7/199.7 KB\u001b[0m \u001b[31m23.7 MB/s\u001b[0m eta \u001b[36m0:00:00\u001b[0m\n",
      "\u001b[?25hBuilding wheels for collected packages: pyspark\n",
      "  Building wheel for pyspark (setup.py) ... \u001b[?25l\u001b[?25hdone\n",
      "  Created wheel for pyspark: filename=pyspark-3.3.2-py2.py3-none-any.whl size=281824028 sha256=d514114a3b409448189ae428e7564a0bd92b7e6c053d8eb2be44d16d61cdb5ae\n",
      "  Stored in directory: /root/.cache/pip/wheels/6c/e3/9b/0525ce8a69478916513509d43693511463c6468db0de237c86\n",
      "Successfully built pyspark\n",
      "Installing collected packages: py4j, pyspark\n",
      "  Attempting uninstall: py4j\n",
      "    Found existing installation: py4j 0.10.9.7\n",
      "    Uninstalling py4j-0.10.9.7:\n",
      "      Successfully uninstalled py4j-0.10.9.7\n",
      "Successfully installed py4j-0.10.9.5 pyspark-3.3.2\n"
     ]
    }
   ],
   "source": [
    "!pip install pyspark"
   ]
  },
  {
   "cell_type": "code",
   "execution_count": 79,
   "metadata": {
    "id": "J-fzzt_-646u"
   },
   "outputs": [],
   "source": [
    "#Libraries\n",
    "from pyspark.sql import SparkSession\n",
    "from pyspark.sql.types import StructType, StructField, IntegerType, StringType\n",
    "from pyspark.ml.evaluation import RegressionEvaluator\n",
    "from pyspark.ml.recommendation import ALS"
   ]
  },
  {
   "cell_type": "code",
   "execution_count": 80,
   "metadata": {
    "id": "T2IH2XdS7enr"
   },
   "outputs": [],
   "source": [
    "spark = SparkSession.builder.appName(\"RecommendationSystem\").getOrCreate()"
   ]
  },
  {
   "cell_type": "markdown",
   "metadata": {},
   "source": [
    "# Load Data"
   ]
  },
  {
   "cell_type": "code",
   "execution_count": 81,
   "metadata": {
    "id": "dQvhEyVM8mtj"
   },
   "outputs": [],
   "source": [
    "myschema = StructType([StructField(\"userID\", IntegerType(), True),\n",
    "                       StructField(\"movieID\", IntegerType(), True),\n",
    "                       StructField(\"rating\",IntegerType(), True),\n",
    "                       StructField(\"unixTimestamp\",IntegerType(), True),\n",
    "                        ])\n",
    "\n",
    "df = spark.read.format(\"csv\").schema(myschema).option(\"delimiter\", \"\\t\").load(\"ml-100k/u.data\")\n",
    "#df = spark.read.format(\"csv\").schema(myschema).option(\"delimiter\", \"\\t\").load(\"hdfs://localhost:9000/user/vvd09/data/u.data\")"
   ]
  },
  {
   "cell_type": "code",
   "execution_count": 82,
   "metadata": {
    "colab": {
     "base_uri": "https://localhost:8080/"
    },
    "id": "2ZY3EVFX-qN9",
    "outputId": "40ba6e75-bee5-4fa0-fc07-5e95c7ddaea6"
   },
   "outputs": [
    {
     "name": "stdout",
     "output_type": "stream",
     "text": [
      "+------+-------+------+-------------+\n",
      "|userID|movieID|rating|unixTimestamp|\n",
      "+------+-------+------+-------------+\n",
      "|   196|    242|     3|    881250949|\n",
      "|   186|    302|     3|    891717742|\n",
      "|    22|    377|     1|    878887116|\n",
      "|   244|     51|     2|    880606923|\n",
      "|   166|    346|     1|    886397596|\n",
      "|   298|    474|     4|    884182806|\n",
      "|   115|    265|     2|    881171488|\n",
      "|   253|    465|     5|    891628467|\n",
      "|   305|    451|     3|    886324817|\n",
      "|     6|     86|     3|    883603013|\n",
      "+------+-------+------+-------------+\n",
      "only showing top 10 rows\n",
      "\n"
     ]
    }
   ],
   "source": [
    "df.show(10)"
   ]
  },
  {
   "cell_type": "code",
   "execution_count": 83,
   "metadata": {
    "id": "D_-6svkpBXBX"
   },
   "outputs": [],
   "source": [
    "df = df.drop(\"unixTimestamp\")"
   ]
  },
  {
   "cell_type": "code",
   "execution_count": 84,
   "metadata": {
    "colab": {
     "base_uri": "https://localhost:8080/"
    },
    "id": "lv4BUfLZBcQ0",
    "outputId": "558abbf4-cf54-45d5-d68d-71c561d52767"
   },
   "outputs": [
    {
     "name": "stdout",
     "output_type": "stream",
     "text": [
      "+-------+------------------+------------------+------------------+\n",
      "|summary|            userID|           movieID|            rating|\n",
      "+-------+------------------+------------------+------------------+\n",
      "|  count|            100000|            100000|            100000|\n",
      "|   mean|         462.48475|         425.53013|           3.52986|\n",
      "| stddev|266.61442012750905|330.79835632558473|1.1256735991443214|\n",
      "|    min|                 1|                 1|                 1|\n",
      "|    max|               943|              1682|                 5|\n",
      "+-------+------------------+------------------+------------------+\n",
      "\n"
     ]
    }
   ],
   "source": [
    "df.describe().show()"
   ]
  },
  {
   "cell_type": "code",
   "execution_count": 85,
   "metadata": {
    "id": "GdRv8rba-_JA"
   },
   "outputs": [],
   "source": [
    "#split train, test data\n",
    "(train, test) = df.randomSplit([0.8, 0.2], seed=27)"
   ]
  },
  {
   "cell_type": "markdown",
   "metadata": {},
   "source": [
    "# ALS Model"
   ]
  },
  {
   "cell_type": "code",
   "execution_count": 86,
   "metadata": {
    "id": "-hDbFhUXA2x_"
   },
   "outputs": [],
   "source": [
    "#create ALS model\n",
    "als = ALS(maxIter=10, regParam=0.01, userCol=\"userID\", itemCol=\"movieID\", ratingCol=\"rating\")"
   ]
  },
  {
   "cell_type": "code",
   "execution_count": 87,
   "metadata": {
    "colab": {
     "base_uri": "https://localhost:8080/"
    },
    "id": "TJYGytyQCnh8",
    "outputId": "36415828-b3d8-41f8-a732-00aef71bde4d"
   },
   "outputs": [
    {
     "data": {
      "text/plain": [
       "ALSModel: uid=ALS_633780b38d71, rank=10"
      ]
     },
     "execution_count": 87,
     "metadata": {},
     "output_type": "execute_result"
    }
   ],
   "source": [
    "#train model on train data\n",
    "model_col = als.fit(train)\n",
    "model_col.setColdStartStrategy(\"drop\")"
   ]
  },
  {
   "cell_type": "code",
   "execution_count": 88,
   "metadata": {
    "id": "fryeAoqQC6vf"
   },
   "outputs": [],
   "source": [
    "#get predictions for test data\n",
    "pred = model_col.transform(test)"
   ]
  },
  {
   "cell_type": "code",
   "execution_count": 95,
   "metadata": {
    "colab": {
     "base_uri": "https://localhost:8080/"
    },
    "id": "wUyBjY2IOnzd",
    "outputId": "467c1a5c-68e0-4fc2-a88c-f41d6b79f906"
   },
   "outputs": [
    {
     "name": "stdout",
     "output_type": "stream",
     "text": [
      "+------+-------+------+----------+\n",
      "|userID|movieID|rating|prediction|\n",
      "+------+-------+------+----------+\n",
      "|   148|      7|     5| 4.6743793|\n",
      "|   148|     69|     5| 3.0447612|\n",
      "|   148|    114|     5|   4.84867|\n",
      "|   148|    135|     5| 5.1084986|\n",
      "|   148|    151|     4| 5.3941426|\n",
      "+------+-------+------+----------+\n",
      "only showing top 5 rows\n",
      "\n"
     ]
    }
   ],
   "source": [
    "pred.show(5)"
   ]
  },
  {
   "cell_type": "markdown",
   "metadata": {},
   "source": [
    "# Evaluate predictions"
   ]
  },
  {
   "cell_type": "code",
   "execution_count": 91,
   "metadata": {
    "colab": {
     "base_uri": "https://localhost:8080/"
    },
    "id": "r4UUqTaaDJPx",
    "outputId": "b78440b9-9feb-46b6-cec3-c7d7c78a00cc"
   },
   "outputs": [
    {
     "name": "stdout",
     "output_type": "stream",
     "text": [
      "RMSE:  1.0779482552322297\n"
     ]
    }
   ],
   "source": [
    "#evaluate predictions\n",
    "eval = RegressionEvaluator(metricName=\"rmse\", labelCol=\"rating\", predictionCol=\"prediction\")\n",
    "rmse = eval.evaluate(pred)\n",
    "print(\"RMSE: \", rmse)"
   ]
  },
  {
   "cell_type": "code",
   "execution_count": 92,
   "metadata": {
    "id": "oAf3dSbqFEN7"
   },
   "outputs": [],
   "source": [
    "#get top 5 recommendations for all users\n",
    "user_recs = model_col.recommendForAllUsers(5)"
   ]
  },
  {
   "cell_type": "code",
   "execution_count": 93,
   "metadata": {
    "colab": {
     "base_uri": "https://localhost:8080/"
    },
    "id": "ZACVoqD8Piap",
    "outputId": "af5ed798-56f4-47bb-ffab-dfac77ea7d86"
   },
   "outputs": [
    {
     "data": {
      "text/plain": [
       "[Row(movieID=1643, rating=5.561593055725098),\n",
       " Row(movieID=853, rating=5.350731372833252),\n",
       " Row(movieID=1149, rating=5.23101806640625),\n",
       " Row(movieID=1066, rating=5.225638389587402),\n",
       " Row(movieID=1368, rating=5.202705383300781)]"
      ]
     },
     "execution_count": 93,
     "metadata": {},
     "output_type": "execute_result"
    }
   ],
   "source": [
    "#display top 5 recommendations 0f UserID = 10\n",
    "user_recs.select(user_recs.recommendations).where(user_recs.userID==10).cache().collect()[0][0]"
   ]
  },
  {
   "cell_type": "markdown",
   "metadata": {},
   "source": [
    "# Recommend Movies with names"
   ]
  },
  {
   "cell_type": "code",
   "execution_count": 94,
   "metadata": {},
   "outputs": [
    {
     "name": "stdout",
     "output_type": "stream",
     "text": [
      "Movies liked by user ID  10\n",
      "Fargo (1996)\n",
      "Laura (1944)\n",
      "Sunset Blvd. (1950)\n",
      "Secrets & Lies (1996)\n",
      "Bonnie and Clyde (1967)\n",
      "\n",
      "Predictions of which movies user might like\n",
      "Angel Baby (1995)\n",
      "Braindead (1992)\n",
      "Walkabout (1971)\n",
      "Balto (1995)\n",
      "Mina Tannenbaum (1994)\n"
     ]
    }
   ],
   "source": [
    "movieSchema = StructType([\n",
    "    StructField(\"movie_id\", IntegerType(), True),\n",
    "    StructField(\"movie_title\", StringType(), True),\n",
    "    StructField(\"release_date\", StringType(), True),\n",
    "    StructField(\"video_release_date\", StringType(), True),\n",
    "    StructField(\"imdb_url\", StringType(), True),\n",
    "    StructField(\"unknown\", IntegerType(), True),\n",
    "    StructField(\"action\", IntegerType(), True),\n",
    "    StructField(\"adventure\", IntegerType(), True),\n",
    "    StructField(\"animation\", IntegerType(), True),\n",
    "    StructField(\"children\", IntegerType(), True),\n",
    "    StructField(\"comedy\", IntegerType(), True),\n",
    "    StructField(\"crime\", IntegerType(), True),\n",
    "    StructField(\"documentary\", IntegerType(), True),\n",
    "    StructField(\"drama\", IntegerType(), True),\n",
    "    StructField(\"fantasy\", IntegerType(), True),\n",
    "    StructField(\"film_noir\", IntegerType(), True),\n",
    "    StructField(\"horror\", IntegerType(), True),\n",
    "    StructField(\"musical\", IntegerType(), True),\n",
    "    StructField(\"mystery\", IntegerType(), True),\n",
    "    StructField(\"romance\", IntegerType(), True),\n",
    "    StructField(\"sci_fi\", IntegerType(), True),\n",
    "    StructField(\"thriller\", IntegerType(), True),\n",
    "    StructField(\"war\", IntegerType(), True),\n",
    "    StructField(\"western\", IntegerType(), True),\n",
    "])\n",
    "\n",
    "rec_userid = 10\n",
    "\n",
    "movie_df = spark.read.format(\"csv\").schema(movieSchema).option(\"delimiter\", \"|\").load(\"ml-100k/u.item\")\n",
    "\n",
    "user_movies = df.select(df.movieID).where((df.userID == rec_userid) & (df.rating >= 3)).orderBy(df.rating.desc()).limit(5)\n",
    "print(\"Movies liked by user ID \", rec_userid)\n",
    "for row in user_movies.collect():\n",
    "    movie_id = row['movieID']\n",
    "    print(movie_df.select(movie_df.movie_title).where(movie_df.movie_id == movie_id).collect()[0][0])\n",
    "    \n",
    "rec_movie_ids  =[]\n",
    "movie_recs = model_col.recommendForAllUsers(5)\n",
    "print(\"\\nPredictions of which movies user might like\")\n",
    "for row in movie_recs.filter(f\"userID = {rec_userid}\").collect():\n",
    "    for rec in row.recommendations:\n",
    "        movie_id = rec.movieID\n",
    "        print(movie_df.select(movie_df.movie_title).where(movie_df.movie_id == movie_id).collect()[0][0])"
   ]
  },
  {
   "cell_type": "code",
   "execution_count": null,
   "metadata": {},
   "outputs": [],
   "source": []
  }
 ],
 "metadata": {
  "colab": {
   "provenance": []
  },
  "kernelspec": {
   "display_name": "Python 3 (ipykernel)",
   "language": "python",
   "name": "python3"
  },
  "language_info": {
   "codemirror_mode": {
    "name": "ipython",
    "version": 3
   },
   "file_extension": ".py",
   "mimetype": "text/x-python",
   "name": "python",
   "nbconvert_exporter": "python",
   "pygments_lexer": "ipython3",
   "version": "3.9.13"
  }
 },
 "nbformat": 4,
 "nbformat_minor": 1
}
